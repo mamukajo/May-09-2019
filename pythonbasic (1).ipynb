{
 "cells": [
  {
   "cell_type": "markdown",
   "metadata": {},
   "source": [
    "# 8 May 2019 - Notes\n",
    "\n",
    "## Print output"
   ]
  },
  {
   "cell_type": "code",
   "execution_count": 1,
   "metadata": {},
   "outputs": [
    {
     "name": "stdout",
     "output_type": "stream",
     "text": [
      "Hello World\n"
     ]
    }
   ],
   "source": [
    "print(\"Hello World\")\n"
   ]
  },
  {
   "cell_type": "code",
   "execution_count": 2,
   "metadata": {},
   "outputs": [
    {
     "data": {
      "text/plain": [
       "114374367934617190099880295228066276746218078451850229775887975052369504785666896446606568365201542169649974727730628842345343196581134895919942820874449837212099476648958359023796078549041949007807220625356526926729664064846685758382803707100766740220839267"
      ]
     },
     "execution_count": 2,
     "metadata": {},
     "output_type": "execute_result"
    }
   ],
   "source": [
    "var1 = 123\n",
    "var2 = (var1 * var1) ** (23)\n",
    "var3 = (var1 ** var1)\n",
    "\n",
    "var3"
   ]
  },
  {
   "cell_type": "code",
   "execution_count": null,
   "metadata": {},
   "outputs": [],
   "source": []
  },
  {
   "cell_type": "markdown",
   "metadata": {},
   "source": [
    "## count digits in a number"
   ]
  },
  {
   "cell_type": "code",
   "execution_count": 3,
   "metadata": {},
   "outputs": [
    {
     "name": "stdout",
     "output_type": "stream",
     "text": [
      "97\n"
     ]
    }
   ],
   "source": [
    "print(len(str(var2)))\n"
   ]
  },
  {
   "cell_type": "code",
   "execution_count": null,
   "metadata": {},
   "outputs": [],
   "source": []
  },
  {
   "cell_type": "markdown",
   "metadata": {},
   "source": [
    "## getting the data type"
   ]
  },
  {
   "cell_type": "code",
   "execution_count": 4,
   "metadata": {},
   "outputs": [
    {
     "data": {
      "text/plain": [
       "str"
      ]
     },
     "execution_count": 4,
     "metadata": {},
     "output_type": "execute_result"
    }
   ],
   "source": [
    "type(var3)\n",
    "type(\"jhansi\")"
   ]
  },
  {
   "cell_type": "code",
   "execution_count": null,
   "metadata": {},
   "outputs": [],
   "source": []
  },
  {
   "cell_type": "markdown",
   "metadata": {},
   "source": [
    "## string slicing"
   ]
  },
  {
   "cell_type": "code",
   "execution_count": 5,
   "metadata": {},
   "outputs": [
    {
     "name": "stdout",
     "output_type": "stream",
     "text": [
      "niversity\n",
      "niversity\n"
     ]
    }
   ],
   "source": [
    "\n",
    "str1 = \"gitam university\"\n",
    "\n",
    "str1[0] \n",
    "str1[len(str1)-1] \n",
    "str1[0:6] \n",
    "str1[len(str1)-1::-1] \n",
    "str1[0:len(str1):2] \n",
    "str1[5::-2] \n",
    "str1[7:] * 10\n",
    "print(str1[7:], end='\\n')\n",
    "print(str1[7:], end='\\n')"
   ]
  },
  {
   "cell_type": "code",
   "execution_count": null,
   "metadata": {},
   "outputs": [],
   "source": []
  },
  {
   "cell_type": "code",
   "execution_count": 6,
   "metadata": {},
   "outputs": [
    {
     "data": {
      "text/plain": [
       "[123, 345, 432, 534, 765, 987, 999]"
      ]
     },
     "execution_count": 6,
     "metadata": {},
     "output_type": "execute_result"
    }
   ],
   "source": [
    "li = [123, 345, 'Python']\n",
    "len(li) \n",
    "li[2] \n",
    "li[len(li)-1] = 'Programming'\n",
    "li.append('Python') \n",
    "li[2:]\n",
    "li.pop() \n",
    "li.remove(345)\n",
    "li.pop(0) \n",
    "li.insert(0, 123)\n",
    "li.insert(1, 345)\n",
    "li2 = [[1,2,3],[4,5,6],[7,8,9]]\n",
    "li2.insert(3,[10,11,12])\n",
    "li2.pop(3)\n",
    "li2.remove([7,8,9])\n",
    "li2 = [[1,2,3],[4,5,6,10],[7,8,9]]\n",
    "li2[1].pop(3)\n",
    "li.pop()\n",
    "li.sort()\n",
    "li.append(987)\n",
    "li.append(534)\n",
    "li.extend([765, 432, 999])\n",
    "li.sort()\n",
    "li\n"
   ]
  },
  {
   "cell_type": "code",
   "execution_count": null,
   "metadata": {},
   "outputs": [],
   "source": []
  },
  {
   "cell_type": "markdown",
   "metadata": {},
   "source": [
    "## tuples"
   ]
  },
  {
   "cell_type": "code",
   "execution_count": 7,
   "metadata": {},
   "outputs": [
    {
     "data": {
      "text/plain": [
       "'321543765'"
      ]
     },
     "execution_count": 7,
     "metadata": {},
     "output_type": "execute_result"
    }
   ],
   "source": [
    "t1 = (123, 345, 567)\n",
    "t1[2] + t1[1] \n",
    "\n",
    "t1[len(t1)-1] \n",
    "\n",
    "t1[1:3] \n",
    "str(t1[0])[1] + \" \" + str(t1[1])[1] + \" \" +str(t1[2])[1]\n",
    "\n",
    "t1 = (123, 345, 567)\n",
    "\n",
    "str(t1[0])[2::-1] + str(t1[1])[2::-1] + str(t1[2])[2::-1]"
   ]
  },
  {
   "cell_type": "code",
   "execution_count": null,
   "metadata": {},
   "outputs": [],
   "source": []
  },
  {
   "cell_type": "markdown",
   "metadata": {},
   "source": [
    "## read input from the user"
   ]
  },
  {
   "cell_type": "code",
   "execution_count": null,
   "metadata": {},
   "outputs": [],
   "source": [
    "str1 = input()\n",
    "\n",
    "str1"
   ]
  },
  {
   "cell_type": "code",
   "execution_count": null,
   "metadata": {},
   "outputs": [],
   "source": []
  },
  {
   "cell_type": "markdown",
   "metadata": {},
   "source": [
    "## dictionaries"
   ]
  },
  {
   "cell_type": "code",
   "execution_count": null,
   "metadata": {},
   "outputs": [],
   "source": [
    "d1 = {'procedural':'C', 'Scripting':'Python', 'Functional':'Haskell'}\n",
    "\n",
    "\n",
    "d1['Scripting']\n",
    "\n",
    "d1.values()\n",
    "d1.keys()\n",
    "d2 = {'Symbolic':'Mathematica', 'logic':'Prolog'}\n",
    "d1.update(d2) \n",
    "\n",
    "d1['ObjectOriented'] = 'Java' \n",
    "\n",
    "d1['logic']\n",
    "d1\n"
   ]
  },
  {
   "cell_type": "code",
   "execution_count": null,
   "metadata": {},
   "outputs": [],
   "source": []
  },
  {
   "cell_type": "code",
   "execution_count": null,
   "metadata": {},
   "outputs": [],
   "source": []
  },
  {
   "cell_type": "code",
   "execution_count": null,
   "metadata": {},
   "outputs": [],
   "source": []
  }
 ],
 "metadata": {
  "kernelspec": {
   "display_name": "Python 3",
   "language": "python",
   "name": "python3"
  },
  "language_info": {
   "codemirror_mode": {
    "name": "ipython",
    "version": 3
   },
   "file_extension": ".py",
   "mimetype": "text/x-python",
   "name": "python",
   "nbconvert_exporter": "python",
   "pygments_lexer": "ipython3",
   "version": "3.6.5"
  }
 },
 "nbformat": 4,
 "nbformat_minor": 2
}
